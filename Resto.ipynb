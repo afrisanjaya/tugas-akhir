{
 "cells": [
  {
   "cell_type": "code",
   "execution_count": 143,
   "metadata": {},
   "outputs": [],
   "source": [
    "import pandas as pd\n",
    "import seaborn as sns\n",
    "import matplotlib.pyplot as plt\n",
    "import numpy as np\n",
    "%matplotlib inline"
   ]
  },
  {
   "cell_type": "code",
   "execution_count": 144,
   "metadata": {},
   "outputs": [],
   "source": [
    "#ambil data\n",
    "# data = pd.read_csv('Dataset.csv')\n",
    "data = pd.read_excel('Dataset.xlsx')"
   ]
  },
  {
   "cell_type": "code",
   "execution_count": 145,
   "metadata": {},
   "outputs": [
    {
     "data": {
      "text/html": [
       "<div>\n",
       "<style scoped>\n",
       "    .dataframe tbody tr th:only-of-type {\n",
       "        vertical-align: middle;\n",
       "    }\n",
       "\n",
       "    .dataframe tbody tr th {\n",
       "        vertical-align: top;\n",
       "    }\n",
       "\n",
       "    .dataframe thead th {\n",
       "        text-align: right;\n",
       "    }\n",
       "</style>\n",
       "<table border=\"1\" class=\"dataframe\">\n",
       "  <thead>\n",
       "    <tr style=\"text-align: right;\">\n",
       "      <th></th>\n",
       "      <th>Timestamp</th>\n",
       "      <th>nama</th>\n",
       "      <th>umur</th>\n",
       "      <th>Apakah menurutmu tempat makan saat ini sudah bisa dibuka kembali?</th>\n",
       "      <th>Apakah prosedur kesehatan yang digunakan di tempat makan sudah efektif?</th>\n",
       "      <th>Cara penyajian bahan makanan yang digunakan oleh tempat makan mempengaruhi kondisi pandemi</th>\n",
       "      <th>Suhu ruangan tempat makan mempengaruhi penyebaran covid 19</th>\n",
       "      <th>Tempat makan tidak wajib menerapkan protokol kesehatan apabila sudah melaksanakannya setelah 3 bulan</th>\n",
       "      <th>Standar kesehatan mandiri yang dibuat pihak tempat makan dapat menggantikan prosedur kesehatan selama pandemi</th>\n",
       "      <th>Apakah prosedur kesehatan yang digunakan di tempat makan sudah efektif?.1</th>\n",
       "      <th>Cara penyajian bahan makanan yang digunakan oleh tempat makan mempengaruhi kondisi pandemi.1</th>\n",
       "      <th>Suhu ruangan tempat makan mempengaruhi penyebaran covid 19.1</th>\n",
       "      <th>Tempat makan tidak wajib menerapkan protokol kesehatan apabila sudah melaksanakannya setelah 3 bulan.1</th>\n",
       "      <th>Standar kesehatan mandiri yang dibuat pihak tempat makan dapat menggantikan prosedur kesehatan selama pandemi.1</th>\n",
       "    </tr>\n",
       "  </thead>\n",
       "  <tbody>\n",
       "    <tr>\n",
       "      <th>0</th>\n",
       "      <td>2022-05-21 14:25:42.605</td>\n",
       "      <td>afri</td>\n",
       "      <td>22.0</td>\n",
       "      <td>Tidak</td>\n",
       "      <td>Ya</td>\n",
       "      <td>5.0</td>\n",
       "      <td>5.0</td>\n",
       "      <td>5.0</td>\n",
       "      <td>5.0</td>\n",
       "      <td>NaN</td>\n",
       "      <td>NaN</td>\n",
       "      <td>NaN</td>\n",
       "      <td>NaN</td>\n",
       "      <td>NaN</td>\n",
       "    </tr>\n",
       "    <tr>\n",
       "      <th>1</th>\n",
       "      <td>2022-05-21 14:26:56.972</td>\n",
       "      <td>afri sanjaya</td>\n",
       "      <td>22.0</td>\n",
       "      <td>Tidak</td>\n",
       "      <td>Tidak</td>\n",
       "      <td>4.0</td>\n",
       "      <td>3.0</td>\n",
       "      <td>1.0</td>\n",
       "      <td>5.0</td>\n",
       "      <td>NaN</td>\n",
       "      <td>NaN</td>\n",
       "      <td>NaN</td>\n",
       "      <td>NaN</td>\n",
       "      <td>NaN</td>\n",
       "    </tr>\n",
       "    <tr>\n",
       "      <th>2</th>\n",
       "      <td>2022-05-21 14:37:08.239</td>\n",
       "      <td>Novi Star Sanjaya</td>\n",
       "      <td>15.0</td>\n",
       "      <td>Tidak</td>\n",
       "      <td>Ya</td>\n",
       "      <td>5.0</td>\n",
       "      <td>5.0</td>\n",
       "      <td>1.0</td>\n",
       "      <td>1.0</td>\n",
       "      <td>NaN</td>\n",
       "      <td>NaN</td>\n",
       "      <td>NaN</td>\n",
       "      <td>NaN</td>\n",
       "      <td>NaN</td>\n",
       "    </tr>\n",
       "    <tr>\n",
       "      <th>3</th>\n",
       "      <td>2022-05-21 20:21:14.412</td>\n",
       "      <td>Rendy Susanto</td>\n",
       "      <td>17.0</td>\n",
       "      <td>Tidak</td>\n",
       "      <td>Tidak</td>\n",
       "      <td>5.0</td>\n",
       "      <td>3.0</td>\n",
       "      <td>4.0</td>\n",
       "      <td>4.0</td>\n",
       "      <td>NaN</td>\n",
       "      <td>NaN</td>\n",
       "      <td>NaN</td>\n",
       "      <td>NaN</td>\n",
       "      <td>NaN</td>\n",
       "    </tr>\n",
       "    <tr>\n",
       "      <th>4</th>\n",
       "      <td>2022-05-21 20:27:41.877</td>\n",
       "      <td>Cicilia Halim</td>\n",
       "      <td>22.0</td>\n",
       "      <td>Tidak</td>\n",
       "      <td>Ya</td>\n",
       "      <td>5.0</td>\n",
       "      <td>4.0</td>\n",
       "      <td>1.0</td>\n",
       "      <td>1.0</td>\n",
       "      <td>NaN</td>\n",
       "      <td>NaN</td>\n",
       "      <td>NaN</td>\n",
       "      <td>NaN</td>\n",
       "      <td>NaN</td>\n",
       "    </tr>\n",
       "  </tbody>\n",
       "</table>\n",
       "</div>"
      ],
      "text/plain": [
       "                Timestamp               nama  umur  \\\n",
       "0 2022-05-21 14:25:42.605               afri  22.0   \n",
       "1 2022-05-21 14:26:56.972       afri sanjaya  22.0   \n",
       "2 2022-05-21 14:37:08.239  Novi Star Sanjaya  15.0   \n",
       "3 2022-05-21 20:21:14.412      Rendy Susanto  17.0   \n",
       "4 2022-05-21 20:27:41.877      Cicilia Halim  22.0   \n",
       "\n",
       "  Apakah menurutmu tempat makan saat ini sudah bisa dibuka kembali?  \\\n",
       "0                                              Tidak                  \n",
       "1                                              Tidak                  \n",
       "2                                              Tidak                  \n",
       "3                                              Tidak                  \n",
       "4                                              Tidak                  \n",
       "\n",
       "  Apakah prosedur kesehatan yang digunakan di tempat makan sudah efektif?  \\\n",
       "0                                                 Ya                        \n",
       "1                                              Tidak                        \n",
       "2                                                 Ya                        \n",
       "3                                              Tidak                        \n",
       "4                                                 Ya                        \n",
       "\n",
       "   Cara penyajian bahan makanan yang digunakan oleh tempat makan mempengaruhi kondisi pandemi  \\\n",
       "0                                                5.0                                            \n",
       "1                                                4.0                                            \n",
       "2                                                5.0                                            \n",
       "3                                                5.0                                            \n",
       "4                                                5.0                                            \n",
       "\n",
       "   Suhu ruangan tempat makan mempengaruhi penyebaran covid 19  \\\n",
       "0                                                5.0            \n",
       "1                                                3.0            \n",
       "2                                                5.0            \n",
       "3                                                3.0            \n",
       "4                                                4.0            \n",
       "\n",
       "   Tempat makan tidak wajib menerapkan protokol kesehatan apabila sudah melaksanakannya setelah 3 bulan  \\\n",
       "0                                                5.0                                                      \n",
       "1                                                1.0                                                      \n",
       "2                                                1.0                                                      \n",
       "3                                                4.0                                                      \n",
       "4                                                1.0                                                      \n",
       "\n",
       "   Standar kesehatan mandiri yang dibuat pihak tempat makan dapat menggantikan prosedur kesehatan selama pandemi  \\\n",
       "0                                                5.0                                                               \n",
       "1                                                5.0                                                               \n",
       "2                                                1.0                                                               \n",
       "3                                                4.0                                                               \n",
       "4                                                1.0                                                               \n",
       "\n",
       "   Apakah prosedur kesehatan yang digunakan di tempat makan sudah efektif?.1  \\\n",
       "0                                                NaN                           \n",
       "1                                                NaN                           \n",
       "2                                                NaN                           \n",
       "3                                                NaN                           \n",
       "4                                                NaN                           \n",
       "\n",
       "   Cara penyajian bahan makanan yang digunakan oleh tempat makan mempengaruhi kondisi pandemi.1  \\\n",
       "0                                                NaN                                              \n",
       "1                                                NaN                                              \n",
       "2                                                NaN                                              \n",
       "3                                                NaN                                              \n",
       "4                                                NaN                                              \n",
       "\n",
       "   Suhu ruangan tempat makan mempengaruhi penyebaran covid 19.1  \\\n",
       "0                                                NaN              \n",
       "1                                                NaN              \n",
       "2                                                NaN              \n",
       "3                                                NaN              \n",
       "4                                                NaN              \n",
       "\n",
       "   Tempat makan tidak wajib menerapkan protokol kesehatan apabila sudah melaksanakannya setelah 3 bulan.1  \\\n",
       "0                                                NaN                                                        \n",
       "1                                                NaN                                                        \n",
       "2                                                NaN                                                        \n",
       "3                                                NaN                                                        \n",
       "4                                                NaN                                                        \n",
       "\n",
       "   Standar kesehatan mandiri yang dibuat pihak tempat makan dapat menggantikan prosedur kesehatan selama pandemi.1  \n",
       "0                                                NaN                                                                \n",
       "1                                                NaN                                                                \n",
       "2                                                NaN                                                                \n",
       "3                                                NaN                                                                \n",
       "4                                                NaN                                                                "
      ]
     },
     "execution_count": 145,
     "metadata": {},
     "output_type": "execute_result"
    }
   ],
   "source": [
    "data.head()"
   ]
  },
  {
   "cell_type": "code",
   "execution_count": 146,
   "metadata": {},
   "outputs": [
    {
     "name": "stdout",
     "output_type": "stream",
     "text": [
      "<class 'pandas.core.frame.DataFrame'>\n",
      "RangeIndex: 73 entries, 0 to 72\n",
      "Data columns (total 14 columns):\n",
      " #   Column                                                                                                           Non-Null Count  Dtype         \n",
      "---  ------                                                                                                           --------------  -----         \n",
      " 0   Timestamp                                                                                                        73 non-null     datetime64[ns]\n",
      " 1   nama                                                                                                             73 non-null     object        \n",
      " 2   umur                                                                                                             73 non-null     float64       \n",
      " 3   Apakah menurutmu tempat makan saat ini sudah bisa dibuka kembali?                                                73 non-null     object        \n",
      " 4   Apakah prosedur kesehatan yang digunakan di tempat makan sudah efektif?                                          73 non-null     object        \n",
      " 5   Cara penyajian bahan makanan yang digunakan oleh tempat makan mempengaruhi kondisi pandemi                       73 non-null     float64       \n",
      " 6   Suhu ruangan tempat makan mempengaruhi penyebaran covid 19                                                       73 non-null     float64       \n",
      " 7   Tempat makan tidak wajib menerapkan protokol kesehatan apabila sudah melaksanakannya setelah 3 bulan             73 non-null     float64       \n",
      " 8   Standar kesehatan mandiri yang dibuat pihak tempat makan dapat menggantikan prosedur kesehatan selama pandemi    73 non-null     float64       \n",
      " 9   Apakah prosedur kesehatan yang digunakan di tempat makan sudah efektif?.1                                        0 non-null      float64       \n",
      " 10  Cara penyajian bahan makanan yang digunakan oleh tempat makan mempengaruhi kondisi pandemi.1                     0 non-null      float64       \n",
      " 11  Suhu ruangan tempat makan mempengaruhi penyebaran covid 19.1                                                     0 non-null      float64       \n",
      " 12  Tempat makan tidak wajib menerapkan protokol kesehatan apabila sudah melaksanakannya setelah 3 bulan.1           0 non-null      float64       \n",
      " 13  Standar kesehatan mandiri yang dibuat pihak tempat makan dapat menggantikan prosedur kesehatan selama pandemi.1  0 non-null      float64       \n",
      "dtypes: datetime64[ns](1), float64(10), object(3)\n",
      "memory usage: 8.1+ KB\n"
     ]
    }
   ],
   "source": [
    "data.info()"
   ]
  },
  {
   "cell_type": "code",
   "execution_count": 147,
   "metadata": {},
   "outputs": [
    {
     "data": {
      "text/plain": [
       "Timestamp                                                                                                           0\n",
       "nama                                                                                                                0\n",
       "umur                                                                                                                0\n",
       "Apakah menurutmu tempat makan saat ini sudah bisa dibuka kembali?                                                   0\n",
       "Apakah prosedur kesehatan yang digunakan di tempat makan sudah efektif?                                             0\n",
       "Cara penyajian bahan makanan yang digunakan oleh tempat makan mempengaruhi kondisi pandemi                          0\n",
       "Suhu ruangan tempat makan mempengaruhi penyebaran covid 19                                                          0\n",
       "Tempat makan tidak wajib menerapkan protokol kesehatan apabila sudah melaksanakannya setelah 3 bulan                0\n",
       "Standar kesehatan mandiri yang dibuat pihak tempat makan dapat menggantikan prosedur kesehatan selama pandemi       0\n",
       "Apakah prosedur kesehatan yang digunakan di tempat makan sudah efektif?.1                                          73\n",
       "Cara penyajian bahan makanan yang digunakan oleh tempat makan mempengaruhi kondisi pandemi.1                       73\n",
       "Suhu ruangan tempat makan mempengaruhi penyebaran covid 19.1                                                       73\n",
       "Tempat makan tidak wajib menerapkan protokol kesehatan apabila sudah melaksanakannya setelah 3 bulan.1             73\n",
       "Standar kesehatan mandiri yang dibuat pihak tempat makan dapat menggantikan prosedur kesehatan selama pandemi.1    73\n",
       "dtype: int64"
      ]
     },
     "execution_count": 147,
     "metadata": {},
     "output_type": "execute_result"
    }
   ],
   "source": [
    "#sum of null values\n",
    "data.isnull().sum()"
   ]
  },
  {
   "cell_type": "code",
   "execution_count": 148,
   "metadata": {},
   "outputs": [
    {
     "data": {
      "text/plain": [
       "<AxesSubplot:>"
      ]
     },
     "execution_count": 148,
     "metadata": {},
     "output_type": "execute_result"
    },
    {
     "data": {
      "image/png": "[encoded data removed]",
      "text/plain": [
       "<Figure size 432x288 with 1 Axes>"
      ]
     },
     "metadata": {
      "needs_background": "light"
     },
     "output_type": "display_data"
    }
   ],
   "source": [
    "sns.heatmap(data.isnull(), yticklabels=False, cbar=False, cmap='viridis')"
   ]
  },
  {
   "cell_type": "code",
   "execution_count": 149,
   "metadata": {},
   "outputs": [],
   "source": [
    "#drop all columns with null values\n",
    "data.dropna(axis=1, inplace=True)"
   ]
  },
  {
   "cell_type": "code",
   "execution_count": 150,
   "metadata": {},
   "outputs": [
    {
     "data": {
      "text/plain": [
       "<AxesSubplot:>"
      ]
     },
     "execution_count": 150,
     "metadata": {},
     "output_type": "execute_result"
    },
    {
     "data": {
      "image/png": "[encoded data removed]",
      "text/plain": [
       "<Figure size 432x288 with 1 Axes>"
      ]
     },
     "metadata": {
      "needs_background": "light"
     },
     "output_type": "display_data"
    }
   ],
   "source": [
    "sns.heatmap(data.isnull(), yticklabels=False, cbar=False, cmap='viridis')"
   ]
  },
  {
   "cell_type": "code",
   "execution_count": 151,
   "metadata": {},
   "outputs": [
    {
     "data": {
      "text/html": [
       "<div>\n",
       "<style scoped>\n",
       "    .dataframe tbody tr th:only-of-type {\n",
       "        vertical-align: middle;\n",
       "    }\n",
       "\n",
       "    .dataframe tbody tr th {\n",
       "        vertical-align: top;\n",
       "    }\n",
       "\n",
       "    .dataframe thead th {\n",
       "        text-align: right;\n",
       "    }\n",
       "</style>\n",
       "<table border=\"1\" class=\"dataframe\">\n",
       "  <thead>\n",
       "    <tr style=\"text-align: right;\">\n",
       "      <th></th>\n",
       "      <th>Timestamp</th>\n",
       "      <th>nama</th>\n",
       "      <th>umur</th>\n",
       "      <th>Apakah menurutmu tempat makan saat ini sudah bisa dibuka kembali?</th>\n",
       "      <th>Apakah prosedur kesehatan yang digunakan di tempat makan sudah efektif?</th>\n",
       "      <th>Cara penyajian bahan makanan yang digunakan oleh tempat makan mempengaruhi kondisi pandemi</th>\n",
       "      <th>Suhu ruangan tempat makan mempengaruhi penyebaran covid 19</th>\n",
       "      <th>Tempat makan tidak wajib menerapkan protokol kesehatan apabila sudah melaksanakannya setelah 3 bulan</th>\n",
       "      <th>Standar kesehatan mandiri yang dibuat pihak tempat makan dapat menggantikan prosedur kesehatan selama pandemi</th>\n",
       "    </tr>\n",
       "  </thead>\n",
       "  <tbody>\n",
       "    <tr>\n",
       "      <th>0</th>\n",
       "      <td>2022-05-21 14:25:42.605</td>\n",
       "      <td>afri</td>\n",
       "      <td>22.0</td>\n",
       "      <td>Tidak</td>\n",
       "      <td>Ya</td>\n",
       "      <td>5.0</td>\n",
       "      <td>5.0</td>\n",
       "      <td>5.0</td>\n",
       "      <td>5.0</td>\n",
       "    </tr>\n",
       "    <tr>\n",
       "      <th>1</th>\n",
       "      <td>2022-05-21 14:26:56.972</td>\n",
       "      <td>afri sanjaya</td>\n",
       "      <td>22.0</td>\n",
       "      <td>Tidak</td>\n",
       "      <td>Tidak</td>\n",
       "      <td>4.0</td>\n",
       "      <td>3.0</td>\n",
       "      <td>1.0</td>\n",
       "      <td>5.0</td>\n",
       "    </tr>\n",
       "    <tr>\n",
       "      <th>2</th>\n",
       "      <td>2022-05-21 14:37:08.239</td>\n",
       "      <td>Novi Star Sanjaya</td>\n",
       "      <td>15.0</td>\n",
       "      <td>Tidak</td>\n",
       "      <td>Ya</td>\n",
       "      <td>5.0</td>\n",
       "      <td>5.0</td>\n",
       "      <td>1.0</td>\n",
       "      <td>1.0</td>\n",
       "    </tr>\n",
       "    <tr>\n",
       "      <th>3</th>\n",
       "      <td>2022-05-21 20:21:14.412</td>\n",
       "      <td>Rendy Susanto</td>\n",
       "      <td>17.0</td>\n",
       "      <td>Tidak</td>\n",
       "      <td>Tidak</td>\n",
       "      <td>5.0</td>\n",
       "      <td>3.0</td>\n",
       "      <td>4.0</td>\n",
       "      <td>4.0</td>\n",
       "    </tr>\n",
       "    <tr>\n",
       "      <th>4</th>\n",
       "      <td>2022-05-21 20:27:41.877</td>\n",
       "      <td>Cicilia Halim</td>\n",
       "      <td>22.0</td>\n",
       "      <td>Tidak</td>\n",
       "      <td>Ya</td>\n",
       "      <td>5.0</td>\n",
       "      <td>4.0</td>\n",
       "      <td>1.0</td>\n",
       "      <td>1.0</td>\n",
       "    </tr>\n",
       "  </tbody>\n",
       "</table>\n",
       "</div>"
      ],
      "text/plain": [
       "                Timestamp               nama  umur  \\\n",
       "0 2022-05-21 14:25:42.605               afri  22.0   \n",
       "1 2022-05-21 14:26:56.972       afri sanjaya  22.0   \n",
       "2 2022-05-21 14:37:08.239  Novi Star Sanjaya  15.0   \n",
       "3 2022-05-21 20:21:14.412      Rendy Susanto  17.0   \n",
       "4 2022-05-21 20:27:41.877      Cicilia Halim  22.0   \n",
       "\n",
       "  Apakah menurutmu tempat makan saat ini sudah bisa dibuka kembali?  \\\n",
       "0                                              Tidak                  \n",
       "1                                              Tidak                  \n",
       "2                                              Tidak                  \n",
       "3                                              Tidak                  \n",
       "4                                              Tidak                  \n",
       "\n",
       "  Apakah prosedur kesehatan yang digunakan di tempat makan sudah efektif?  \\\n",
       "0                                                 Ya                        \n",
       "1                                              Tidak                        \n",
       "2                                                 Ya                        \n",
       "3                                              Tidak                        \n",
       "4                                                 Ya                        \n",
       "\n",
       "   Cara penyajian bahan makanan yang digunakan oleh tempat makan mempengaruhi kondisi pandemi  \\\n",
       "0                                                5.0                                            \n",
       "1                                                4.0                                            \n",
       "2                                                5.0                                            \n",
       "3                                                5.0                                            \n",
       "4                                                5.0                                            \n",
       "\n",
       "   Suhu ruangan tempat makan mempengaruhi penyebaran covid 19  \\\n",
       "0                                                5.0            \n",
       "1                                                3.0            \n",
       "2                                                5.0            \n",
       "3                                                3.0            \n",
       "4                                                4.0            \n",
       "\n",
       "   Tempat makan tidak wajib menerapkan protokol kesehatan apabila sudah melaksanakannya setelah 3 bulan  \\\n",
       "0                                                5.0                                                      \n",
       "1                                                1.0                                                      \n",
       "2                                                1.0                                                      \n",
       "3                                                4.0                                                      \n",
       "4                                                1.0                                                      \n",
       "\n",
       "   Standar kesehatan mandiri yang dibuat pihak tempat makan dapat menggantikan prosedur kesehatan selama pandemi  \n",
       "0                                                5.0                                                              \n",
       "1                                                5.0                                                              \n",
       "2                                                1.0                                                              \n",
       "3                                                4.0                                                              \n",
       "4                                                1.0                                                              "
      ]
     },
     "execution_count": 151,
     "metadata": {},
     "output_type": "execute_result"
    }
   ],
   "source": [
    "data.head()"
   ]
  },
  {
   "cell_type": "code",
   "execution_count": 152,
   "metadata": {},
   "outputs": [],
   "source": [
    "data.drop(['Timestamp','nama','umur'], axis=1, inplace=True)"
   ]
  },
  {
   "cell_type": "code",
   "execution_count": 153,
   "metadata": {},
   "outputs": [
    {
     "data": {
      "text/html": [
       "<div>\n",
       "<style scoped>\n",
       "    .dataframe tbody tr th:only-of-type {\n",
       "        vertical-align: middle;\n",
       "    }\n",
       "\n",
       "    .dataframe tbody tr th {\n",
       "        vertical-align: top;\n",
       "    }\n",
       "\n",
       "    .dataframe thead th {\n",
       "        text-align: right;\n",
       "    }\n",
       "</style>\n",
       "<table border=\"1\" class=\"dataframe\">\n",
       "  <thead>\n",
       "    <tr style=\"text-align: right;\">\n",
       "      <th></th>\n",
       "      <th>Apakah menurutmu tempat makan saat ini sudah bisa dibuka kembali?</th>\n",
       "      <th>Apakah prosedur kesehatan yang digunakan di tempat makan sudah efektif?</th>\n",
       "      <th>Cara penyajian bahan makanan yang digunakan oleh tempat makan mempengaruhi kondisi pandemi</th>\n",
       "      <th>Suhu ruangan tempat makan mempengaruhi penyebaran covid 19</th>\n",
       "      <th>Tempat makan tidak wajib menerapkan protokol kesehatan apabila sudah melaksanakannya setelah 3 bulan</th>\n",
       "      <th>Standar kesehatan mandiri yang dibuat pihak tempat makan dapat menggantikan prosedur kesehatan selama pandemi</th>\n",
       "    </tr>\n",
       "  </thead>\n",
       "  <tbody>\n",
       "    <tr>\n",
       "      <th>0</th>\n",
       "      <td>Tidak</td>\n",
       "      <td>Ya</td>\n",
       "      <td>5.0</td>\n",
       "      <td>5.0</td>\n",
       "      <td>5.0</td>\n",
       "      <td>5.0</td>\n",
       "    </tr>\n",
       "    <tr>\n",
       "      <th>1</th>\n",
       "      <td>Tidak</td>\n",
       "      <td>Tidak</td>\n",
       "      <td>4.0</td>\n",
       "      <td>3.0</td>\n",
       "      <td>1.0</td>\n",
       "      <td>5.0</td>\n",
       "    </tr>\n",
       "    <tr>\n",
       "      <th>2</th>\n",
       "      <td>Tidak</td>\n",
       "      <td>Ya</td>\n",
       "      <td>5.0</td>\n",
       "      <td>5.0</td>\n",
       "      <td>1.0</td>\n",
       "      <td>1.0</td>\n",
       "    </tr>\n",
       "    <tr>\n",
       "      <th>3</th>\n",
       "      <td>Tidak</td>\n",
       "      <td>Tidak</td>\n",
       "      <td>5.0</td>\n",
       "      <td>3.0</td>\n",
       "      <td>4.0</td>\n",
       "      <td>4.0</td>\n",
       "    </tr>\n",
       "    <tr>\n",
       "      <th>4</th>\n",
       "      <td>Tidak</td>\n",
       "      <td>Ya</td>\n",
       "      <td>5.0</td>\n",
       "      <td>4.0</td>\n",
       "      <td>1.0</td>\n",
       "      <td>1.0</td>\n",
       "    </tr>\n",
       "  </tbody>\n",
       "</table>\n",
       "</div>"
      ],
      "text/plain": [
       "  Apakah menurutmu tempat makan saat ini sudah bisa dibuka kembali?  \\\n",
       "0                                              Tidak                  \n",
       "1                                              Tidak                  \n",
       "2                                              Tidak                  \n",
       "3                                              Tidak                  \n",
       "4                                              Tidak                  \n",
       "\n",
       "  Apakah prosedur kesehatan yang digunakan di tempat makan sudah efektif?  \\\n",
       "0                                                 Ya                        \n",
       "1                                              Tidak                        \n",
       "2                                                 Ya                        \n",
       "3                                              Tidak                        \n",
       "4                                                 Ya                        \n",
       "\n",
       "   Cara penyajian bahan makanan yang digunakan oleh tempat makan mempengaruhi kondisi pandemi  \\\n",
       "0                                                5.0                                            \n",
       "1                                                4.0                                            \n",
       "2                                                5.0                                            \n",
       "3                                                5.0                                            \n",
       "4                                                5.0                                            \n",
       "\n",
       "   Suhu ruangan tempat makan mempengaruhi penyebaran covid 19  \\\n",
       "0                                                5.0            \n",
       "1                                                3.0            \n",
       "2                                                5.0            \n",
       "3                                                3.0            \n",
       "4                                                4.0            \n",
       "\n",
       "   Tempat makan tidak wajib menerapkan protokol kesehatan apabila sudah melaksanakannya setelah 3 bulan  \\\n",
       "0                                                5.0                                                      \n",
       "1                                                1.0                                                      \n",
       "2                                                1.0                                                      \n",
       "3                                                4.0                                                      \n",
       "4                                                1.0                                                      \n",
       "\n",
       "   Standar kesehatan mandiri yang dibuat pihak tempat makan dapat menggantikan prosedur kesehatan selama pandemi  \n",
       "0                                                5.0                                                              \n",
       "1                                                5.0                                                              \n",
       "2                                                1.0                                                              \n",
       "3                                                4.0                                                              \n",
       "4                                                1.0                                                              "
      ]
     },
     "execution_count": 153,
     "metadata": {},
     "output_type": "execute_result"
    }
   ],
   "source": [
    "data.head()"
   ]
  },
  {
   "cell_type": "code",
   "execution_count": 154,
   "metadata": {},
   "outputs": [],
   "source": [
    "# data['Apakah menurutmu tempat makan saat ini sudah bisa dibuka kembali?'] = data['Apakah menurutmu tempat makan saat ini sudah bisa dibuka kembali?'].map({'Ya':1, 'Tidak':0})"
   ]
  },
  {
   "cell_type": "code",
   "execution_count": 155,
   "metadata": {},
   "outputs": [
    {
     "data": {
      "text/plain": [
       "ya       56\n",
       "Tidak    17\n",
       "Name: Apakah menurutmu tempat makan saat ini sudah bisa dibuka kembali?, dtype: int64"
      ]
     },
     "execution_count": 155,
     "metadata": {},
     "output_type": "execute_result"
    }
   ],
   "source": [
    "#sum of ya and tidak\n",
    "data['Apakah menurutmu tempat makan saat ini sudah bisa dibuka kembali?'].value_counts()"
   ]
  },
  {
   "cell_type": "code",
   "execution_count": 156,
   "metadata": {},
   "outputs": [],
   "source": [
    "data['Apakah menurutmu tempat makan saat ini sudah bisa dibuka kembali?'] = data['Apakah menurutmu tempat makan saat ini sudah bisa dibuka kembali?'].map({'Ya':1, 'Tidak':0})\n",
    "#change nan to 1.0\n",
    "data['Apakah menurutmu tempat makan saat ini sudah bisa dibuka kembali?'].fillna(1.0, inplace=True)"
   ]
  },
  {
   "cell_type": "code",
   "execution_count": 157,
   "metadata": {},
   "outputs": [
    {
     "data": {
      "text/plain": [
       "1.0    56\n",
       "0.0    17\n",
       "Name: Apakah menurutmu tempat makan saat ini sudah bisa dibuka kembali?, dtype: int64"
      ]
     },
     "execution_count": 157,
     "metadata": {},
     "output_type": "execute_result"
    }
   ],
   "source": [
    "data['Apakah menurutmu tempat makan saat ini sudah bisa dibuka kembali?'].value_counts()"
   ]
  },
  {
   "cell_type": "code",
   "execution_count": null,
   "metadata": {},
   "outputs": [],
   "source": []
  }
 ],
 "metadata": {
  "interpreter": {
   "hash": "7758e92e9a61d7a3490898707f7eeb937c85e9d1e8d4e877cc6c187218f226d5"
  },
  "kernelspec": {
   "display_name": "Python 3.9.7 ('base')",
   "language": "python",
   "name": "python3"
  },
  "language_info": {
   "codemirror_mode": {
    "name": "ipython",
    "version": 3
   },
   "file_extension": ".py",
   "mimetype": "text/x-python",
   "name": "python",
   "nbconvert_exporter": "python",
   "pygments_lexer": "ipython3",
   "version": "3.9.7"
  },
  "orig_nbformat": 4
 },
 "nbformat": 4,
 "nbformat_minor": 2
}
